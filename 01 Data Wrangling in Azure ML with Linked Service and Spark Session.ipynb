{
 "cells": [
  {
   "cell_type": "markdown",
   "id": "dabae0e0",
   "metadata": {},
   "source": [
    "# Interactive Spark Session on Synapse Spark Pool"
   ]
  },
  {
   "cell_type": "markdown",
   "id": "3fa8269c",
   "metadata": {},
   "source": [
    "### Install the azureml-synapse package on your compute instance.\n",
    "\n",
    "We will pip install the package *azureml-synapse*, but note if you chose to use jupyter lab, then you would need to additionally need to run the command: *!jupyter lab build --minimize=False*"
   ]
  },
  {
   "cell_type": "code",
   "execution_count": 96,
   "id": "b97a8b73",
   "metadata": {},
   "outputs": [],
   "source": [
    "# can't use just yet.\n",
    "# sklearn_env = Environment(\"env-synapse\")\n",
    "# conda_dep = CondaDependencies()\n",
    "# conda_dep.add_conda_package(\"matplotlib\")\n",
    "# sklearn_env.python.conda_dependencies = conda_dep\n",
    "\n",
    "# sklearn_env.register(ws)"
   ]
  },
  {
   "cell_type": "code",
   "execution_count": 1,
   "id": "61edf66f",
   "metadata": {},
   "outputs": [
    {
     "name": "stdout",
     "output_type": "stream",
     "text": [
      "Collecting azureml-synapse\n",
      "  Downloading azureml_synapse-1.34.0-py3-none-any.whl (2.8 MB)\n",
      "\u001b[K     |████████████████████████████████| 2.8 MB 4.8 MB/s eta 0:00:01\n",
      "\u001b[?25hCollecting azure.identity>=1.4.1\n",
      "  Downloading azure_identity-1.6.1-py2.py3-none-any.whl (109 kB)\n",
      "\u001b[K     |████████████████████████████████| 109 kB 82.3 MB/s eta 0:00:01\n",
      "\u001b[?25hRequirement already satisfied, skipping upgrade: azureml-core~=1.34.0 in /anaconda/envs/azureml_py36/lib/python3.6/site-packages (from azureml-synapse) (1.34.0)\n",
      "Collecting sparkmagic<=0.16.0,>=0.15.0\n",
      "  Downloading sparkmagic-0.16.0.tar.gz (35 kB)\n",
      "Collecting azure.mgmt.synapse>=2.0.0\n",
      "  Downloading azure_mgmt_synapse-2.0.0-py2.py3-none-any.whl (442 kB)\n",
      "\u001b[K     |████████████████████████████████| 442 kB 68.2 MB/s eta 0:00:01\n",
      "\u001b[?25hCollecting hdijupyterutils<=0.16.0,>=0.15.0\n",
      "  Downloading hdijupyterutils-0.16.0.tar.gz (4.6 kB)\n",
      "Requirement already satisfied, skipping upgrade: cryptography>=2.1.4 in /anaconda/envs/azureml_py36/lib/python3.6/site-packages (from azure.identity>=1.4.1->azureml-synapse) (3.4.8)\n",
      "Requirement already satisfied, skipping upgrade: azure-core<2.0.0,>=1.0.0 in /anaconda/envs/azureml_py36/lib/python3.6/site-packages (from azure.identity>=1.4.1->azureml-synapse) (1.18.0)\n",
      "Requirement already satisfied, skipping upgrade: msal<2.0.0,>=1.7.0 in /anaconda/envs/azureml_py36/lib/python3.6/site-packages (from azure.identity>=1.4.1->azureml-synapse) (1.14.0)\n",
      "Requirement already satisfied, skipping upgrade: six>=1.12.0 in /anaconda/envs/azureml_py36/lib/python3.6/site-packages (from azure.identity>=1.4.1->azureml-synapse) (1.16.0)\n",
      "Collecting msal-extensions~=0.3.0\n",
      "  Downloading msal_extensions-0.3.0-py2.py3-none-any.whl (16 kB)\n",
      "Requirement already satisfied, skipping upgrade: pyopenssl<21.0.0 in /anaconda/envs/azureml_py36/lib/python3.6/site-packages (from azureml-core~=1.34.0->azureml-synapse) (20.0.1)\n",
      "Requirement already satisfied, skipping upgrade: msrestazure<=0.6.4,>=0.4.33 in /anaconda/envs/azureml_py36/lib/python3.6/site-packages (from azureml-core~=1.34.0->azureml-synapse) (0.6.4)\n",
      "Requirement already satisfied, skipping upgrade: azure-graphrbac<1.0.0,>=0.40.0 in /anaconda/envs/azureml_py36/lib/python3.6/site-packages (from azureml-core~=1.34.0->azureml-synapse) (0.61.1)\n",
      "Requirement already satisfied, skipping upgrade: ndg-httpsclient<=0.5.1 in /anaconda/envs/azureml_py36/lib/python3.6/site-packages (from azureml-core~=1.34.0->azureml-synapse) (0.5.1)\n",
      "Requirement already satisfied, skipping upgrade: azure-mgmt-containerregistry>=2.0.0 in /anaconda/envs/azureml_py36/lib/python3.6/site-packages (from azureml-core~=1.34.0->azureml-synapse) (8.1.0)\n",
      "Requirement already satisfied, skipping upgrade: urllib3<=1.26.6,>=1.23 in /anaconda/envs/azureml_py36/lib/python3.6/site-packages (from azureml-core~=1.34.0->azureml-synapse) (1.25.11)\n",
      "Requirement already satisfied, skipping upgrade: azure-common<2.0.0,>=1.1.12 in /anaconda/envs/azureml_py36/lib/python3.6/site-packages (from azureml-core~=1.34.0->azureml-synapse) (1.1.27)\n",
      "Requirement already satisfied, skipping upgrade: PyJWT<3.0.0 in /anaconda/envs/azureml_py36/lib/python3.6/site-packages (from azureml-core~=1.34.0->azureml-synapse) (2.1.0)\n",
      "Requirement already satisfied, skipping upgrade: msrest<1.0.0,>=0.5.1 in /anaconda/envs/azureml_py36/lib/python3.6/site-packages (from azureml-core~=1.34.0->azureml-synapse) (0.6.21)\n",
      "Requirement already satisfied, skipping upgrade: ruamel.yaml<0.17.5,>=0.15.35 in /anaconda/envs/azureml_py36/lib/python3.6/site-packages (from azureml-core~=1.34.0->azureml-synapse) (0.17.4)\n",
      "Requirement already satisfied, skipping upgrade: docker<6.0.0 in /anaconda/envs/azureml_py36/lib/python3.6/site-packages (from azureml-core~=1.34.0->azureml-synapse) (5.0.2)\n",
      "Requirement already satisfied, skipping upgrade: azure-mgmt-storage<16.0.0,>=1.5.0 in /anaconda/envs/azureml_py36/lib/python3.6/site-packages (from azureml-core~=1.34.0->azureml-synapse) (11.2.0)\n",
      "Requirement already satisfied, skipping upgrade: jmespath<1.0.0 in /anaconda/envs/azureml_py36/lib/python3.6/site-packages (from azureml-core~=1.34.0->azureml-synapse) (0.10.0)\n",
      "Requirement already satisfied, skipping upgrade: jsonpickle<3.0.0 in /anaconda/envs/azureml_py36/lib/python3.6/site-packages (from azureml-core~=1.34.0->azureml-synapse) (2.0.0)\n",
      "Requirement already satisfied, skipping upgrade: pathspec<1.0.0 in /anaconda/envs/azureml_py36/lib/python3.6/site-packages (from azureml-core~=1.34.0->azureml-synapse) (0.9.0)\n",
      "Requirement already satisfied, skipping upgrade: backports.tempfile in /anaconda/envs/azureml_py36/lib/python3.6/site-packages (from azureml-core~=1.34.0->azureml-synapse) (1.0)\n",
      "Requirement already satisfied, skipping upgrade: contextlib2<22.0.0 in /anaconda/envs/azureml_py36/lib/python3.6/site-packages (from azureml-core~=1.34.0->azureml-synapse) (21.6.0)\n",
      "Requirement already satisfied, skipping upgrade: python-dateutil<3.0.0,>=2.7.3 in /anaconda/envs/azureml_py36/lib/python3.6/site-packages (from azureml-core~=1.34.0->azureml-synapse) (2.8.2)\n",
      "Requirement already satisfied, skipping upgrade: SecretStorage<4.0.0 in /anaconda/envs/azureml_py36/lib/python3.6/site-packages (from azureml-core~=1.34.0->azureml-synapse) (3.3.1)\n",
      "Requirement already satisfied, skipping upgrade: adal<=1.2.7,>=1.2.0 in /anaconda/envs/azureml_py36/lib/python3.6/site-packages (from azureml-core~=1.34.0->azureml-synapse) (1.2.7)\n",
      "Requirement already satisfied, skipping upgrade: pytz in /anaconda/envs/azureml_py36/lib/python3.6/site-packages (from azureml-core~=1.34.0->azureml-synapse) (2021.1)\n",
      "Requirement already satisfied, skipping upgrade: azure-mgmt-authorization<1.0.0,>=0.40.0 in /anaconda/envs/azureml_py36/lib/python3.6/site-packages (from azureml-core~=1.34.0->azureml-synapse) (0.61.0)\n",
      "Requirement already satisfied, skipping upgrade: azure-mgmt-resource<15.0.0,>=1.2.1 in /anaconda/envs/azureml_py36/lib/python3.6/site-packages (from azureml-core~=1.34.0->azureml-synapse) (13.0.0)\n",
      "Requirement already satisfied, skipping upgrade: requests<3.0.0,>=2.19.1 in /anaconda/envs/azureml_py36/lib/python3.6/site-packages (from azureml-core~=1.34.0->azureml-synapse) (2.26.0)\n",
      "Requirement already satisfied, skipping upgrade: azure-mgmt-keyvault<10.0.0,>=0.40.0 in /anaconda/envs/azureml_py36/lib/python3.6/site-packages (from azureml-core~=1.34.0->azureml-synapse) (9.1.0)\n",
      "Collecting autovizwidget>=0.6\n",
      "  Downloading autovizwidget-0.19.1.tar.gz (8.7 kB)\n",
      "Requirement already satisfied, skipping upgrade: ipython>=4.0.2 in /anaconda/envs/azureml_py36/lib/python3.6/site-packages (from sparkmagic<=0.16.0,>=0.15.0->azureml-synapse) (7.16.1)\n",
      "Collecting nose\n",
      "  Downloading nose-1.3.7-py3-none-any.whl (154 kB)\n",
      "\u001b[K     |████████████████████████████████| 154 kB 78.9 MB/s eta 0:00:01\n",
      "\u001b[?25hRequirement already satisfied, skipping upgrade: mock in /anaconda/envs/azureml_py36/lib/python3.6/site-packages (from sparkmagic<=0.16.0,>=0.15.0->azureml-synapse) (4.0.3)\n",
      "Requirement already satisfied, skipping upgrade: pandas>=0.17.1 in /anaconda/envs/azureml_py36/lib/python3.6/site-packages (from sparkmagic<=0.16.0,>=0.15.0->azureml-synapse) (0.25.3)\n",
      "Requirement already satisfied, skipping upgrade: numpy in /anaconda/envs/azureml_py36/lib/python3.6/site-packages (from sparkmagic<=0.16.0,>=0.15.0->azureml-synapse) (1.18.5)\n",
      "Requirement already satisfied, skipping upgrade: ipykernel in /anaconda/envs/azureml_py36/lib/python3.6/site-packages (from sparkmagic<=0.16.0,>=0.15.0->azureml-synapse) (5.5.5)\n",
      "Requirement already satisfied, skipping upgrade: ipywidgets>5.0.0 in /anaconda/envs/azureml_py36/lib/python3.6/site-packages (from sparkmagic<=0.16.0,>=0.15.0->azureml-synapse) (7.6.4)\n",
      "Requirement already satisfied, skipping upgrade: notebook>=4.2 in /anaconda/envs/azureml_py36/lib/python3.6/site-packages (from sparkmagic<=0.16.0,>=0.15.0->azureml-synapse) (6.4.3)\n",
      "Requirement already satisfied, skipping upgrade: tornado>=4 in /anaconda/envs/azureml_py36/lib/python3.6/site-packages (from sparkmagic<=0.16.0,>=0.15.0->azureml-synapse) (6.1)\n",
      "Collecting requests_kerberos>=0.8.0\n",
      "  Downloading requests_kerberos-0.12.0-py2.py3-none-any.whl (14 kB)\n",
      "Requirement already satisfied, skipping upgrade: azure-mgmt-core<2.0.0,>=1.2.0 in /anaconda/envs/azureml_py36/lib/python3.6/site-packages (from azure.mgmt.synapse>=2.0.0->azureml-synapse) (1.3.0)\n",
      "Requirement already satisfied, skipping upgrade: jupyter>=1 in /anaconda/envs/azureml_py36/lib/python3.6/site-packages (from hdijupyterutils<=0.16.0,>=0.15.0->azureml-synapse) (1.0.0)\n",
      "Requirement already satisfied, skipping upgrade: cffi>=1.12 in /anaconda/envs/azureml_py36/lib/python3.6/site-packages (from cryptography>=2.1.4->azure.identity>=1.4.1->azureml-synapse) (1.14.6)\n",
      "Requirement already satisfied, skipping upgrade: portalocker~=1.0; platform_system != \"Windows\" in /anaconda/envs/azureml_py36/lib/python3.6/site-packages (from msal-extensions~=0.3.0->azure.identity>=1.4.1->azureml-synapse) (1.7.1)\n",
      "Requirement already satisfied, skipping upgrade: pyasn1>=0.1.1 in /anaconda/envs/azureml_py36/lib/python3.6/site-packages (from ndg-httpsclient<=0.5.1->azureml-core~=1.34.0->azureml-synapse) (0.4.8)\n",
      "Requirement already satisfied, skipping upgrade: certifi>=2017.4.17 in /anaconda/envs/azureml_py36/lib/python3.6/site-packages (from msrest<1.0.0,>=0.5.1->azureml-core~=1.34.0->azureml-synapse) (2021.5.30)\n",
      "Requirement already satisfied, skipping upgrade: requests-oauthlib>=0.5.0 in /anaconda/envs/azureml_py36/lib/python3.6/site-packages (from msrest<1.0.0,>=0.5.1->azureml-core~=1.34.0->azureml-synapse) (1.3.0)\n",
      "Requirement already satisfied, skipping upgrade: isodate>=0.6.0 in /anaconda/envs/azureml_py36/lib/python3.6/site-packages (from msrest<1.0.0,>=0.5.1->azureml-core~=1.34.0->azureml-synapse) (0.6.0)\n",
      "Requirement already satisfied, skipping upgrade: ruamel.yaml.clib>=0.1.2; platform_python_implementation == \"CPython\" and python_version < \"3.10\" in /anaconda/envs/azureml_py36/lib/python3.6/site-packages (from ruamel.yaml<0.17.5,>=0.15.35->azureml-core~=1.34.0->azureml-synapse) (0.2.6)\n",
      "Requirement already satisfied, skipping upgrade: websocket-client>=0.32.0 in /anaconda/envs/azureml_py36/lib/python3.6/site-packages (from docker<6.0.0->azureml-core~=1.34.0->azureml-synapse) (1.2.1)\n",
      "Requirement already satisfied, skipping upgrade: importlib-metadata; python_version < \"3.8\" in /anaconda/envs/azureml_py36/lib/python3.6/site-packages (from jsonpickle<3.0.0->azureml-core~=1.34.0->azureml-synapse) (4.8.1)\n",
      "Requirement already satisfied, skipping upgrade: backports.weakref in /anaconda/envs/azureml_py36/lib/python3.6/site-packages (from backports.tempfile->azureml-core~=1.34.0->azureml-synapse) (1.0.post1)\n",
      "Requirement already satisfied, skipping upgrade: jeepney>=0.6 in /anaconda/envs/azureml_py36/lib/python3.6/site-packages (from SecretStorage<4.0.0->azureml-core~=1.34.0->azureml-synapse) (0.7.1)\n",
      "Requirement already satisfied, skipping upgrade: idna<4,>=2.5; python_version >= \"3\" in /anaconda/envs/azureml_py36/lib/python3.6/site-packages (from requests<3.0.0,>=2.19.1->azureml-core~=1.34.0->azureml-synapse) (3.2)\n",
      "Requirement already satisfied, skipping upgrade: charset-normalizer~=2.0.0; python_version >= \"3\" in /anaconda/envs/azureml_py36/lib/python3.6/site-packages (from requests<3.0.0,>=2.19.1->azureml-core~=1.34.0->azureml-synapse) (2.0.4)\n",
      "Requirement already satisfied, skipping upgrade: plotly>=3 in /anaconda/envs/azureml_py36/lib/python3.6/site-packages (from autovizwidget>=0.6->sparkmagic<=0.16.0,>=0.15.0->azureml-synapse) (5.3.1)\n",
      "Requirement already satisfied, skipping upgrade: setuptools>=18.5 in /anaconda/envs/azureml_py36/lib/python3.6/site-packages (from ipython>=4.0.2->sparkmagic<=0.16.0,>=0.15.0->azureml-synapse) (50.3.0)\n",
      "Requirement already satisfied, skipping upgrade: traitlets>=4.2 in /anaconda/envs/azureml_py36/lib/python3.6/site-packages (from ipython>=4.0.2->sparkmagic<=0.16.0,>=0.15.0->azureml-synapse) (4.3.3)\n",
      "Requirement already satisfied, skipping upgrade: decorator in /anaconda/envs/azureml_py36/lib/python3.6/site-packages (from ipython>=4.0.2->sparkmagic<=0.16.0,>=0.15.0->azureml-synapse) (5.0.9)\n",
      "Requirement already satisfied, skipping upgrade: jedi>=0.10 in /anaconda/envs/azureml_py36/lib/python3.6/site-packages (from ipython>=4.0.2->sparkmagic<=0.16.0,>=0.15.0->azureml-synapse) (0.17.2)\n",
      "Requirement already satisfied, skipping upgrade: prompt-toolkit!=3.0.0,!=3.0.1,<3.1.0,>=2.0.0 in /anaconda/envs/azureml_py36/lib/python3.6/site-packages (from ipython>=4.0.2->sparkmagic<=0.16.0,>=0.15.0->azureml-synapse) (3.0.20)\n",
      "Requirement already satisfied, skipping upgrade: pexpect; sys_platform != \"win32\" in /anaconda/envs/azureml_py36/lib/python3.6/site-packages (from ipython>=4.0.2->sparkmagic<=0.16.0,>=0.15.0->azureml-synapse) (4.8.0)\n",
      "Requirement already satisfied, skipping upgrade: pickleshare in /anaconda/envs/azureml_py36/lib/python3.6/site-packages (from ipython>=4.0.2->sparkmagic<=0.16.0,>=0.15.0->azureml-synapse) (0.7.5)\n",
      "Requirement already satisfied, skipping upgrade: pygments in /anaconda/envs/azureml_py36/lib/python3.6/site-packages (from ipython>=4.0.2->sparkmagic<=0.16.0,>=0.15.0->azureml-synapse) (2.10.0)\n",
      "Requirement already satisfied, skipping upgrade: backcall in /anaconda/envs/azureml_py36/lib/python3.6/site-packages (from ipython>=4.0.2->sparkmagic<=0.16.0,>=0.15.0->azureml-synapse) (0.2.0)\n",
      "Requirement already satisfied, skipping upgrade: jupyter-client in /anaconda/envs/azureml_py36/lib/python3.6/site-packages (from ipykernel->sparkmagic<=0.16.0,>=0.15.0->azureml-synapse) (6.1.12)\n",
      "Requirement already satisfied, skipping upgrade: ipython-genutils~=0.2.0 in /anaconda/envs/azureml_py36/lib/python3.6/site-packages (from ipywidgets>5.0.0->sparkmagic<=0.16.0,>=0.15.0->azureml-synapse) (0.2.0)\n",
      "Requirement already satisfied, skipping upgrade: jupyterlab-widgets>=1.0.0; python_version >= \"3.6\" in /anaconda/envs/azureml_py36/lib/python3.6/site-packages (from ipywidgets>5.0.0->sparkmagic<=0.16.0,>=0.15.0->azureml-synapse) (1.0.1)\n",
      "Requirement already satisfied, skipping upgrade: nbformat>=4.2.0 in /anaconda/envs/azureml_py36/lib/python3.6/site-packages (from ipywidgets>5.0.0->sparkmagic<=0.16.0,>=0.15.0->azureml-synapse) (5.1.3)\n",
      "Requirement already satisfied, skipping upgrade: widgetsnbextension~=3.5.0 in /anaconda/envs/azureml_py36/lib/python3.6/site-packages (from ipywidgets>5.0.0->sparkmagic<=0.16.0,>=0.15.0->azureml-synapse) (3.5.1)\n",
      "Requirement already satisfied, skipping upgrade: nbconvert in /anaconda/envs/azureml_py36/lib/python3.6/site-packages (from notebook>=4.2->sparkmagic<=0.16.0,>=0.15.0->azureml-synapse) (5.6.1)\n",
      "Requirement already satisfied, skipping upgrade: pyzmq>=17 in /anaconda/envs/azureml_py36/lib/python3.6/site-packages (from notebook>=4.2->sparkmagic<=0.16.0,>=0.15.0->azureml-synapse) (22.2.1)\n",
      "Requirement already satisfied, skipping upgrade: argon2-cffi in /anaconda/envs/azureml_py36/lib/python3.6/site-packages (from notebook>=4.2->sparkmagic<=0.16.0,>=0.15.0->azureml-synapse) (21.1.0)\n",
      "Requirement already satisfied, skipping upgrade: prometheus-client in /anaconda/envs/azureml_py36/lib/python3.6/site-packages (from notebook>=4.2->sparkmagic<=0.16.0,>=0.15.0->azureml-synapse) (0.11.0)\n",
      "Requirement already satisfied, skipping upgrade: Send2Trash>=1.5.0 in /anaconda/envs/azureml_py36/lib/python3.6/site-packages (from notebook>=4.2->sparkmagic<=0.16.0,>=0.15.0->azureml-synapse) (1.8.0)\n",
      "Requirement already satisfied, skipping upgrade: jinja2 in /anaconda/envs/azureml_py36/lib/python3.6/site-packages (from notebook>=4.2->sparkmagic<=0.16.0,>=0.15.0->azureml-synapse) (2.11.2)\n",
      "Requirement already satisfied, skipping upgrade: jupyter-core>=4.6.1 in /anaconda/envs/azureml_py36/lib/python3.6/site-packages (from notebook>=4.2->sparkmagic<=0.16.0,>=0.15.0->azureml-synapse) (4.7.1)\n",
      "Requirement already satisfied, skipping upgrade: terminado>=0.8.3 in /anaconda/envs/azureml_py36/lib/python3.6/site-packages (from notebook>=4.2->sparkmagic<=0.16.0,>=0.15.0->azureml-synapse) (0.12.1)\n",
      "Collecting pykerberos<2.0.0,>=1.1.8; sys_platform != \"win32\"\n",
      "  Downloading pykerberos-1.2.1.tar.gz (24 kB)\n",
      "Requirement already satisfied, skipping upgrade: qtconsole in /anaconda/envs/azureml_py36/lib/python3.6/site-packages (from jupyter>=1->hdijupyterutils<=0.16.0,>=0.15.0->azureml-synapse) (5.1.1)\n",
      "Requirement already satisfied, skipping upgrade: jupyter-console in /anaconda/envs/azureml_py36/lib/python3.6/site-packages (from jupyter>=1->hdijupyterutils<=0.16.0,>=0.15.0->azureml-synapse) (6.4.0)\n",
      "Requirement already satisfied, skipping upgrade: pycparser in /anaconda/envs/azureml_py36/lib/python3.6/site-packages (from cffi>=1.12->cryptography>=2.1.4->azure.identity>=1.4.1->azureml-synapse) (2.20)\n",
      "Requirement already satisfied, skipping upgrade: oauthlib>=3.0.0 in /anaconda/envs/azureml_py36/lib/python3.6/site-packages (from requests-oauthlib>=0.5.0->msrest<1.0.0,>=0.5.1->azureml-core~=1.34.0->azureml-synapse) (3.1.1)\n",
      "Requirement already satisfied, skipping upgrade: typing-extensions>=3.6.4; python_version < \"3.8\" in /anaconda/envs/azureml_py36/lib/python3.6/site-packages (from importlib-metadata; python_version < \"3.8\"->jsonpickle<3.0.0->azureml-core~=1.34.0->azureml-synapse) (3.10.0.2)\n",
      "Requirement already satisfied, skipping upgrade: zipp>=0.5 in /anaconda/envs/azureml_py36/lib/python3.6/site-packages (from importlib-metadata; python_version < \"3.8\"->jsonpickle<3.0.0->azureml-core~=1.34.0->azureml-synapse) (3.5.0)\n",
      "Requirement already satisfied, skipping upgrade: tenacity>=6.2.0 in /anaconda/envs/azureml_py36/lib/python3.6/site-packages (from plotly>=3->autovizwidget>=0.6->sparkmagic<=0.16.0,>=0.15.0->azureml-synapse) (8.0.1)\n",
      "Collecting parso<0.8.0,>=0.7.0\n",
      "  Downloading parso-0.7.1-py2.py3-none-any.whl (109 kB)\n",
      "\u001b[K     |████████████████████████████████| 109 kB 83.4 MB/s eta 0:00:01\n",
      "\u001b[?25hRequirement already satisfied, skipping upgrade: wcwidth in /anaconda/envs/azureml_py36/lib/python3.6/site-packages (from prompt-toolkit!=3.0.0,!=3.0.1,<3.1.0,>=2.0.0->ipython>=4.0.2->sparkmagic<=0.16.0,>=0.15.0->azureml-synapse) (0.2.5)\n",
      "Requirement already satisfied, skipping upgrade: ptyprocess>=0.5 in /anaconda/envs/azureml_py36/lib/python3.6/site-packages (from pexpect; sys_platform != \"win32\"->ipython>=4.0.2->sparkmagic<=0.16.0,>=0.15.0->azureml-synapse) (0.7.0)\n",
      "Requirement already satisfied, skipping upgrade: jsonschema!=2.5.0,>=2.4 in /anaconda/envs/azureml_py36/lib/python3.6/site-packages (from nbformat>=4.2.0->ipywidgets>5.0.0->sparkmagic<=0.16.0,>=0.15.0->azureml-synapse) (3.2.0)\n",
      "Requirement already satisfied, skipping upgrade: testpath in /anaconda/envs/azureml_py36/lib/python3.6/site-packages (from nbconvert->notebook>=4.2->sparkmagic<=0.16.0,>=0.15.0->azureml-synapse) (0.5.0)\n",
      "Requirement already satisfied, skipping upgrade: mistune<2,>=0.8.1 in /anaconda/envs/azureml_py36/lib/python3.6/site-packages (from nbconvert->notebook>=4.2->sparkmagic<=0.16.0,>=0.15.0->azureml-synapse) (0.8.4)\n",
      "Requirement already satisfied, skipping upgrade: bleach in /anaconda/envs/azureml_py36/lib/python3.6/site-packages (from nbconvert->notebook>=4.2->sparkmagic<=0.16.0,>=0.15.0->azureml-synapse) (4.1.0)\n",
      "Requirement already satisfied, skipping upgrade: entrypoints>=0.2.2 in /anaconda/envs/azureml_py36/lib/python3.6/site-packages (from nbconvert->notebook>=4.2->sparkmagic<=0.16.0,>=0.15.0->azureml-synapse) (0.3)\n",
      "Requirement already satisfied, skipping upgrade: pandocfilters>=1.4.1 in /anaconda/envs/azureml_py36/lib/python3.6/site-packages (from nbconvert->notebook>=4.2->sparkmagic<=0.16.0,>=0.15.0->azureml-synapse) (1.4.3)\n",
      "Requirement already satisfied, skipping upgrade: defusedxml in /anaconda/envs/azureml_py36/lib/python3.6/site-packages (from nbconvert->notebook>=4.2->sparkmagic<=0.16.0,>=0.15.0->azureml-synapse) (0.7.1)\n",
      "Requirement already satisfied, skipping upgrade: MarkupSafe>=0.23 in /anaconda/envs/azureml_py36/lib/python3.6/site-packages (from jinja2->notebook>=4.2->sparkmagic<=0.16.0,>=0.15.0->azureml-synapse) (2.0.1)\n",
      "Requirement already satisfied, skipping upgrade: qtpy in /anaconda/envs/azureml_py36/lib/python3.6/site-packages (from qtconsole->jupyter>=1->hdijupyterutils<=0.16.0,>=0.15.0->azureml-synapse) (1.11.1)\n",
      "Requirement already satisfied, skipping upgrade: pyrsistent>=0.14.0 in /anaconda/envs/azureml_py36/lib/python3.6/site-packages (from jsonschema!=2.5.0,>=2.4->nbformat>=4.2.0->ipywidgets>5.0.0->sparkmagic<=0.16.0,>=0.15.0->azureml-synapse) (0.18.0)\n",
      "Requirement already satisfied, skipping upgrade: attrs>=17.4.0 in /anaconda/envs/azureml_py36/lib/python3.6/site-packages (from jsonschema!=2.5.0,>=2.4->nbformat>=4.2.0->ipywidgets>5.0.0->sparkmagic<=0.16.0,>=0.15.0->azureml-synapse) (21.2.0)\n",
      "Requirement already satisfied, skipping upgrade: packaging in /anaconda/envs/azureml_py36/lib/python3.6/site-packages (from bleach->nbconvert->notebook>=4.2->sparkmagic<=0.16.0,>=0.15.0->azureml-synapse) (21.0)\n",
      "Requirement already satisfied, skipping upgrade: webencodings in /anaconda/envs/azureml_py36/lib/python3.6/site-packages (from bleach->nbconvert->notebook>=4.2->sparkmagic<=0.16.0,>=0.15.0->azureml-synapse) (0.5.1)\n",
      "Requirement already satisfied, skipping upgrade: pyparsing>=2.0.2 in /anaconda/envs/azureml_py36/lib/python3.6/site-packages (from packaging->bleach->nbconvert->notebook>=4.2->sparkmagic<=0.16.0,>=0.15.0->azureml-synapse) (2.4.7)\n",
      "Building wheels for collected packages: sparkmagic, hdijupyterutils, autovizwidget, pykerberos\n",
      "  Building wheel for sparkmagic (setup.py) ... \u001b[?25ldone\n",
      "\u001b[?25h  Created wheel for sparkmagic: filename=sparkmagic-0.16.0-py3-none-any.whl size=57247 sha256=c70d1085636c921576159282af83309c2daee1e7a5290ac5b04929fefff53bd3\n",
      "  Stored in directory: /home/azureuser/.cache/pip/wheels/69/94/d4/94d1e290dc0c3965449c6d1832ef9b8a86c81bca7bf4e632c7\n",
      "  Building wheel for hdijupyterutils (setup.py) ... \u001b[?25ldone\n",
      "\u001b[?25h  Created wheel for hdijupyterutils: filename=hdijupyterutils-0.16.0-py3-none-any.whl size=7697 sha256=00d18aeb9509f3ee15a9f160042a9de6905fab922402adfb745572f8a5281196\n",
      "  Stored in directory: /home/azureuser/.cache/pip/wheels/21/77/5f/ed23a25516a7d1f93f04fd9953e1985a61694ed9bc3715ccae\n",
      "  Building wheel for autovizwidget (setup.py) ... \u001b[?25ldone\n",
      "\u001b[?25h  Created wheel for autovizwidget: filename=autovizwidget-0.19.1-py3-none-any.whl size=14544 sha256=db829c7261370a6aeab2130e9ed8f12835e4f61d263ed7b5b5f4ce9c56c18bca\n",
      "  Stored in directory: /home/azureuser/.cache/pip/wheels/76/cb/93/7ab4cfc3752fb2f35efddaa8332d1853d6962eefcc2b9f267d\n",
      "  Building wheel for pykerberos (setup.py) ... \u001b[?25ldone\n",
      "\u001b[?25h  Created wheel for pykerberos: filename=pykerberos-1.2.1-cp36-cp36m-linux_x86_64.whl size=69188 sha256=180ab9e738e9f4ce553436e06ae5726bd323560118ffc09c5eb8f5818e65facd\n",
      "  Stored in directory: /home/azureuser/.cache/pip/wheels/8b/04/7b/a655ef6a54543ae28ba60f30ced4a03fd4c77f4bc46b3e965a\n",
      "Successfully built sparkmagic hdijupyterutils autovizwidget pykerberos\n",
      "\u001b[31mERROR: azureml-dataprep 2.22.2 has requirement azure-identity<1.5.0,>=1.2.0, but you'll have azure-identity 1.6.1 which is incompatible.\u001b[0m\n",
      "\u001b[31mERROR: azure-cli 2.24.0 has requirement azure-graphrbac~=0.60.0, but you'll have azure-graphrbac 0.61.1 which is incompatible.\u001b[0m\n",
      "\u001b[31mERROR: azure-cli 2.24.0 has requirement azure-mgmt-containerregistry==3.0.0rc17, but you'll have azure-mgmt-containerregistry 8.1.0 which is incompatible.\u001b[0m\n",
      "\u001b[31mERROR: azure-cli 2.24.0 has requirement azure-mgmt-keyvault==9.0.0, but you'll have azure-mgmt-keyvault 9.1.0 which is incompatible.\u001b[0m\n",
      "\u001b[31mERROR: azure-cli 2.24.0 has requirement azure-mgmt-resource==18.0.0, but you'll have azure-mgmt-resource 13.0.0 which is incompatible.\u001b[0m\n",
      "\u001b[31mERROR: azure-cli 2.24.0 has requirement azure-mgmt-storage~=18.0.0, but you'll have azure-mgmt-storage 11.2.0 which is incompatible.\u001b[0m\n",
      "\u001b[31mERROR: azure-cli 2.24.0 has requirement azure-mgmt-synapse~=0.6.0, but you'll have azure-mgmt-synapse 2.0.0 which is incompatible.\u001b[0m\n",
      "\u001b[31mERROR: azure-cli 2.24.0 has requirement packaging~=20.9, but you'll have packaging 21.0 which is incompatible.\u001b[0m\n",
      "\u001b[31mERROR: azure-cli 2.24.0 has requirement pytz==2019.1, but you'll have pytz 2021.1 which is incompatible.\u001b[0m\n",
      "\u001b[31mERROR: azure-cli 2.24.0 has requirement websocket-client~=0.56.0, but you'll have websocket-client 1.2.1 which is incompatible.\u001b[0m\n",
      "Installing collected packages: msal-extensions, azure.identity, nose, hdijupyterutils, autovizwidget, pykerberos, requests-kerberos, sparkmagic, azure.mgmt.synapse, azureml-synapse, parso\n",
      "  Attempting uninstall: msal-extensions\n",
      "    Found existing installation: msal-extensions 0.2.2\n",
      "    Uninstalling msal-extensions-0.2.2:\n",
      "      Successfully uninstalled msal-extensions-0.2.2\n",
      "  Attempting uninstall: parso\n",
      "    Found existing installation: parso 0.8.2\n",
      "    Uninstalling parso-0.8.2:\n",
      "      Successfully uninstalled parso-0.8.2\n",
      "Successfully installed autovizwidget-0.19.1 azure.identity azure.mgmt.synapse azureml-synapse-1.34.0 hdijupyterutils-0.16.0 msal-extensions-0.3.0 nose-1.3.7 parso-0.7.1 pykerberos-1.2.1 requests-kerberos-0.12.0 sparkmagic-0.16.0\n"
     ]
    }
   ],
   "source": [
    "!pip install -U \"azureml-synapse\""
   ]
  },
  {
   "cell_type": "markdown",
   "id": "e2dd2ab0",
   "metadata": {},
   "source": [
    "### Restart your kernal and refresh the web page after doing the install. \n",
    "\n",
    "This is due to the fact that package will install the line magic function `%synsapse` that will leverage.\n",
    "If you try to run the next command, and fail, you probably skipped this step. "
   ]
  },
  {
   "cell_type": "code",
   "execution_count": 1,
   "id": "ff986487",
   "metadata": {},
   "outputs": [
    {
     "name": "stdout",
     "output_type": "stream",
     "text": [
      "::\n",
      "\n",
      "  %synapse [-s SUBSCRIPTION_ID] [-r RESOURCE_GROUP] [-w WORKSPACE_NAME]\n",
      "               [-f CONFIG_FILE] [-c COMPUTE_TARGET]\n",
      "               [--driver-memory DRIVER_MEMORY] [--driver-cores DRIVER_CORES]\n",
      "               [--executor-memory EXECUTOR_MEMORY]\n",
      "               [--executor-cores EXECUTOR_CORES] [-n NUM_EXECUTORS]\n",
      "               [-t SESSION_TIMEOUT] [--start-timeout START_TIMEOUT]\n",
      "               [-e ENVIRONMENT] [--environment-version ENVIRONMENT_VERSION]\n",
      "               [command [command ...]]\n",
      "\n",
      "Magic to execute spark remotely against a Synapse Spark pool.\n",
      "\n",
      "Sub commands:\n",
      "    start: Start a Livy session against target AML Synapse compute.\n",
      "        You can set spark config in the magic body by json format. e.g.\n",
      "\n",
      "        .. code-block:: python\n",
      "\n",
      "            %%synapse start --compute-target synapse_compute\n",
      "            {\n",
      "                \"spark.yarn.appMasterEnv.xxx\": \"xxx\",\n",
      "                \"spark.executorEnv.xxx\": \"xxx\",\n",
      "                \"spark.yarn.maxAppAttempts\": 1\n",
      "            }\n",
      "\n",
      "    run: Run Spark code against the active session.                e.g. `%%synapse` or `%%synapse pyspark` will execute the PySpark code against the active session.                e.g. `%%synapse spark` will execute the Scala code against the active session.\n",
      "    meta: Returns the metadata of the active session.\n",
      "    stop: Stop the active session.\n",
      "\n",
      "positional arguments:\n",
      "  command               Commands to execute.\n",
      "\n",
      "optional arguments:\n",
      "  -s SUBSCRIPTION_ID, --subscription-id SUBSCRIPTION_ID\n",
      "                        Subscription id of your AML workspace.\n",
      "  -r RESOURCE_GROUP, --resource-group RESOURCE_GROUP\n",
      "                        Resource group name of your AML workspace.\n",
      "  -w WORKSPACE_NAME, --workspace-name WORKSPACE_NAME\n",
      "                        Name of your AML workspace.\n",
      "  -f CONFIG_FILE, --config-file CONFIG_FILE\n",
      "                        The path of workspace config file. Will be ignored\n",
      "                        when subscription-id, resource-group or workspace-name\n",
      "                        specified.\n",
      "  -c COMPUTE_TARGET, --compute-target COMPUTE_TARGET\n",
      "                        Name of AML Synapse pool compute.\n",
      "  --driver-memory DRIVER_MEMORY\n",
      "                        Memory size of Spark driver, default is 28g.\n",
      "  --driver-cores DRIVER_CORES\n",
      "                        Number of VCores of Spark driver, default is 4.\n",
      "  --executor-memory EXECUTOR_MEMORY\n",
      "                        Memory size of Spark executor, default is 28g.\n",
      "  --executor-cores EXECUTOR_CORES\n",
      "                        Number of VCores of Spark executor, default is 4.\n",
      "  -n NUM_EXECUTORS, --num-executors NUM_EXECUTORS\n",
      "                        Number of Spark executors, default is 2.\n",
      "  -t SESSION_TIMEOUT, --session-timeout SESSION_TIMEOUT\n",
      "                        The number of minutes of session timeout, default is\n",
      "                        30.\n",
      "  --start-timeout START_TIMEOUT\n",
      "                        The number of timeout in seconds when session is\n",
      "                        initialized, default is 300.\n",
      "  -e ENVIRONMENT, --environment ENVIRONMENT\n",
      "                        Name of the environment used for this session.\n",
      "  --environment-version ENVIRONMENT_VERSION\n",
      "                        version of the environment, will use latest version if\n",
      "                        not specified.\n"
     ]
    }
   ],
   "source": [
    "# show help\n",
    "%synapse ?"
   ]
  },
  {
   "cell_type": "markdown",
   "id": "3fe10507",
   "metadata": {},
   "source": [
    "## Start your spark Session\n",
    "\n",
    "use Synapse compute linked to the Compute Instance's workspace with an aml envrionment.\n",
    "conda dependencies specified in the environment will be installed before the spark session started.\n",
    "\n",
    "Starting the session will take several minutes as it is installing your environment packages into your Spark Session"
   ]
  },
  {
   "cell_type": "code",
   "execution_count": 55,
   "id": "23590fe0",
   "metadata": {},
   "outputs": [],
   "source": [
    "synapse_compute_name=os.getenv(\"SYNAPSE_COMPUTE_NAME\", \"aml-mmsparkpool\")"
   ]
  },
  {
   "cell_type": "code",
   "execution_count": 56,
   "id": "e527dc75",
   "metadata": {},
   "outputs": [
    {
     "data": {
      "text/plain": [
       "'aml-mmsparkpool'"
      ]
     },
     "execution_count": 56,
     "metadata": {},
     "output_type": "execute_result"
    }
   ],
   "source": [
    "synapse_compute_name"
   ]
  },
  {
   "cell_type": "code",
   "execution_count": 91,
   "id": "e26659e5",
   "metadata": {},
   "outputs": [
    {
     "name": "stdout",
     "output_type": "stream",
     "text": [
      "Warning: Only Conda dependencies in the environment will be used, and Python dependency specified in environment Conda dependencies is not supported in Synapse Spark pool. \n",
      "Synapse Spark pool now only supports fixed Python version, you can print \"sys.version_info\" in your script to check current Python version.\n",
      "Starting session 'aml_notebook_637529' under environment 'env-synapse', this may take several minutes ........................................................................................................................................... Succeeded!\n"
     ]
    }
   ],
   "source": [
    "#synapse start -c $synapse_compute_name -e env-synapse\n",
    "%synapse start -c $synapse_compute_name -e AzureML-Minimal"
   ]
  },
  {
   "cell_type": "code",
   "execution_count": null,
   "id": "eb80376d",
   "metadata": {},
   "outputs": [],
   "source": [
    "# Connecting to Data\n",
    "\n",
    "Currently 3 types of datastores are supported with Synapse Spark\n",
    "- Blob Storage - providing credentials\n",
    "- Adls (Gen 1 & 2) - both credential & credential less."
   ]
  },
  {
   "cell_type": "markdown",
   "id": "829099bb",
   "metadata": {},
   "source": [
    "## Example 1: Data loading by HDFS path\n",
    "\n",
    "### Read data from blob\n",
    "\n",
    "```python\n",
    "# setup access key or sas token\n",
    "\n",
    "sc._jsc.hadoopConfiguration().set(\"fs.azure.account.key.<storage account name>.blob.core.windows.net\", \"<acess key>\")\n",
    "sc._jsc.hadoopConfiguration().set(\"fs.azure.sas.<container name>.<storage account name>.blob.core.windows.net\", \"sas token\")\n",
    "\n",
    "df = spark.read.parquet(\"wasbs://<container name>@<storage account name>.blob.core.windows.net/<path>\")\n",
    "```\n",
    "\n",
    "### Read data from ADLSGen1\n",
    "\n",
    "```python\n",
    "# setup service pricinpal which has access of the data\n",
    "# If no data Credential is setup, the user identity will be used to do access control\n",
    "\n",
    "sc._jsc.hadoopConfiguration().set(\"fs.adl.account.<storage account name>.oauth2.access.token.provider.type\",\"ClientCredential\")\n",
    "sc._jsc.hadoopConfiguration().set(\"fs.adl.account.<storage account name>.oauth2.client.id\", \"<client id>\")\n",
    "sc._jsc.hadoopConfiguration().set(\"fs.adl.account.<storage account name>.oauth2.credential\", \"<client secret>\")\n",
    "sc._jsc.hadoopConfiguration().set(\"fs.adl.account.<storage account name>.oauth2.refresh.url\", \"https://login.microsoftonline.com/<tenant id>/oauth2/token\")\n",
    "\n",
    "df = spark.read.csv(\"adl://<storage account name>.azuredatalakestore.net/<path>\")\n",
    "```\n",
    "\n",
    "### Read data from ADLSGen2\n",
    "\n",
    "```python\n",
    "Read data from Adlsgen2\n",
    "\n",
    "# setup service pricinpal which has access of the data\n",
    "# If no data Credential is setup, the user identity will be used to do access control\n",
    "\n",
    "sc._jsc.hadoopConfiguration().set(\"fs.azure.account.auth.type.<storage account name>.dfs.core.windows.net\",\"OAuth\")\n",
    "sc._jsc.hadoopConfiguration().set(\"fs.azure.account.oauth.provider.type.<storage account name>.dfs.core.windows.net\", \"org.apache.hadoop.fs.azurebfs.oauth2.ClientCredsTokenProvider\")\n",
    "sc._jsc.hadoopConfiguration().set(\"fs.azure.account.oauth2.client.id.<storage account name>.dfs.core.windows.net\", \"<client id>\")\n",
    "sc._jsc.hadoopConfiguration().set(\"fs.azure.account.oauth2.client.secret.<storage account name>.dfs.core.windows.net\", \"<client secret>\")\n",
    "sc._jsc.hadoopConfiguration().set(\"fs.azure.account.oauth2.client.endpoint.<storage account name>.dfs.core.windows.net\", \"https://login.microsoftonline.com/<tenant id>/oauth2/token\")\n",
    "\n",
    "df = spark.read.csv(\"abfss://<container name>@<storage account>.dfs.core.windows.net/<path>\")\n",
    "```"
   ]
  },
  {
   "cell_type": "code",
   "execution_count": 21,
   "id": "f4d28dbc",
   "metadata": {},
   "outputs": [
    {
     "name": "stdout",
     "output_type": "stream",
     "text": [
      "Ready to use Azure ML 1.34.0 to work with mm-aml-dev\n",
      "Workspace.create(name='mm-aml-dev', subscription_id='5da07161-3770-4a4b-aa43-418cbbb627cf', resource_group='mm-machine-learning-dev-rg')\n",
      "Uploading an estimated of 2 files\n",
      "Uploading ./data/train.csv\n",
      "Uploaded ./data/train.csv, 1 files out of an estimated total of 2\n",
      "Uploading ./data/test.csv\n",
      "Uploaded ./data/test.csv, 2 files out of an estimated total of 2\n",
      "Uploaded 2 files\n"
     ]
    },
    {
     "data": {
      "text/plain": [
       "$AZUREML_DATAREFERENCE_f6e250fe5c064b1793c0810c961c91f1"
      ]
     },
     "execution_count": 21,
     "metadata": {},
     "output_type": "execute_result"
    }
   ],
   "source": [
    "from azureml.core import Workspace, Dataset\n",
    "ws = Workspace.from_config()\n",
    "print('Ready to use Azure ML {} to work with {}'.format(azureml.core.VERSION, ws.name))\n",
    "print(ws)\n",
    "\n",
    "default_ds = ws.get_default_datastore()\n",
    "\n",
    "default_ds.upload_files(files=['./data/train.csv', './data/test.csv'], # Upload the diabetes csv files in /data\n",
    "                       target_path='titanic/', # Put it in a folder path in the datastore\n",
    "                       overwrite=True, # Replace existing files of the same name\n",
    "                       show_progress=True)"
   ]
  },
  {
   "cell_type": "markdown",
   "id": "609f1e59",
   "metadata": {},
   "source": [
    "## Access data\n",
    "\n",
    "We can leverage a pandas dataframe with our compute instance, but we are unable to leverage the compute clusters in Spark to handle larger datasets.  Below shows the data loaded into a pandas dataframe - not pandas dataframe on a Spark cluster will only leverage the head node, not the cluster itself."
   ]
  },
  {
   "cell_type": "code",
   "execution_count": 22,
   "id": "59b79245",
   "metadata": {},
   "outputs": [
    {
     "data": {
      "text/html": [
       "<div>\n",
       "<style scoped>\n",
       "    .dataframe tbody tr th:only-of-type {\n",
       "        vertical-align: middle;\n",
       "    }\n",
       "\n",
       "    .dataframe tbody tr th {\n",
       "        vertical-align: top;\n",
       "    }\n",
       "\n",
       "    .dataframe thead th {\n",
       "        text-align: right;\n",
       "    }\n",
       "</style>\n",
       "<table border=\"1\" class=\"dataframe\">\n",
       "  <thead>\n",
       "    <tr style=\"text-align: right;\">\n",
       "      <th></th>\n",
       "      <th>PassengerId</th>\n",
       "      <th>Survived</th>\n",
       "      <th>Pclass</th>\n",
       "      <th>Name</th>\n",
       "      <th>Sex</th>\n",
       "      <th>Age</th>\n",
       "      <th>SibSp</th>\n",
       "      <th>Parch</th>\n",
       "      <th>Ticket</th>\n",
       "      <th>Fare</th>\n",
       "      <th>Cabin</th>\n",
       "      <th>Embarked</th>\n",
       "    </tr>\n",
       "  </thead>\n",
       "  <tbody>\n",
       "    <tr>\n",
       "      <th>0</th>\n",
       "      <td>1</td>\n",
       "      <td>0</td>\n",
       "      <td>3</td>\n",
       "      <td>Braund, Mr. Owen Harris</td>\n",
       "      <td>male</td>\n",
       "      <td>22.0</td>\n",
       "      <td>1</td>\n",
       "      <td>0</td>\n",
       "      <td>A/5 21171</td>\n",
       "      <td>7.2500</td>\n",
       "      <td>None</td>\n",
       "      <td>S</td>\n",
       "    </tr>\n",
       "    <tr>\n",
       "      <th>1</th>\n",
       "      <td>2</td>\n",
       "      <td>1</td>\n",
       "      <td>1</td>\n",
       "      <td>Cumings, Mrs. John Bradley (Florence Briggs Th...</td>\n",
       "      <td>female</td>\n",
       "      <td>38.0</td>\n",
       "      <td>1</td>\n",
       "      <td>0</td>\n",
       "      <td>PC 17599</td>\n",
       "      <td>71.2833</td>\n",
       "      <td>C85</td>\n",
       "      <td>C</td>\n",
       "    </tr>\n",
       "    <tr>\n",
       "      <th>2</th>\n",
       "      <td>3</td>\n",
       "      <td>1</td>\n",
       "      <td>3</td>\n",
       "      <td>Heikkinen, Miss. Laina</td>\n",
       "      <td>female</td>\n",
       "      <td>26.0</td>\n",
       "      <td>0</td>\n",
       "      <td>0</td>\n",
       "      <td>STON/O2. 3101282</td>\n",
       "      <td>7.9250</td>\n",
       "      <td>None</td>\n",
       "      <td>S</td>\n",
       "    </tr>\n",
       "    <tr>\n",
       "      <th>3</th>\n",
       "      <td>4</td>\n",
       "      <td>1</td>\n",
       "      <td>1</td>\n",
       "      <td>Futrelle, Mrs. Jacques Heath (Lily May Peel)</td>\n",
       "      <td>female</td>\n",
       "      <td>35.0</td>\n",
       "      <td>1</td>\n",
       "      <td>0</td>\n",
       "      <td>113803</td>\n",
       "      <td>53.1000</td>\n",
       "      <td>C123</td>\n",
       "      <td>S</td>\n",
       "    </tr>\n",
       "    <tr>\n",
       "      <th>4</th>\n",
       "      <td>5</td>\n",
       "      <td>0</td>\n",
       "      <td>3</td>\n",
       "      <td>Allen, Mr. William Henry</td>\n",
       "      <td>male</td>\n",
       "      <td>35.0</td>\n",
       "      <td>0</td>\n",
       "      <td>0</td>\n",
       "      <td>373450</td>\n",
       "      <td>8.0500</td>\n",
       "      <td>None</td>\n",
       "      <td>S</td>\n",
       "    </tr>\n",
       "    <tr>\n",
       "      <th>...</th>\n",
       "      <td>...</td>\n",
       "      <td>...</td>\n",
       "      <td>...</td>\n",
       "      <td>...</td>\n",
       "      <td>...</td>\n",
       "      <td>...</td>\n",
       "      <td>...</td>\n",
       "      <td>...</td>\n",
       "      <td>...</td>\n",
       "      <td>...</td>\n",
       "      <td>...</td>\n",
       "      <td>...</td>\n",
       "    </tr>\n",
       "    <tr>\n",
       "      <th>886</th>\n",
       "      <td>887</td>\n",
       "      <td>0</td>\n",
       "      <td>2</td>\n",
       "      <td>Montvila, Rev. Juozas</td>\n",
       "      <td>male</td>\n",
       "      <td>27.0</td>\n",
       "      <td>0</td>\n",
       "      <td>0</td>\n",
       "      <td>211536</td>\n",
       "      <td>13.0000</td>\n",
       "      <td>None</td>\n",
       "      <td>S</td>\n",
       "    </tr>\n",
       "    <tr>\n",
       "      <th>887</th>\n",
       "      <td>888</td>\n",
       "      <td>1</td>\n",
       "      <td>1</td>\n",
       "      <td>Graham, Miss. Margaret Edith</td>\n",
       "      <td>female</td>\n",
       "      <td>19.0</td>\n",
       "      <td>0</td>\n",
       "      <td>0</td>\n",
       "      <td>112053</td>\n",
       "      <td>30.0000</td>\n",
       "      <td>B42</td>\n",
       "      <td>S</td>\n",
       "    </tr>\n",
       "    <tr>\n",
       "      <th>888</th>\n",
       "      <td>889</td>\n",
       "      <td>0</td>\n",
       "      <td>3</td>\n",
       "      <td>Johnston, Miss. Catherine Helen \"Carrie\"</td>\n",
       "      <td>female</td>\n",
       "      <td>NaN</td>\n",
       "      <td>1</td>\n",
       "      <td>2</td>\n",
       "      <td>W./C. 6607</td>\n",
       "      <td>23.4500</td>\n",
       "      <td>None</td>\n",
       "      <td>S</td>\n",
       "    </tr>\n",
       "    <tr>\n",
       "      <th>889</th>\n",
       "      <td>890</td>\n",
       "      <td>1</td>\n",
       "      <td>1</td>\n",
       "      <td>Behr, Mr. Karl Howell</td>\n",
       "      <td>male</td>\n",
       "      <td>26.0</td>\n",
       "      <td>0</td>\n",
       "      <td>0</td>\n",
       "      <td>111369</td>\n",
       "      <td>30.0000</td>\n",
       "      <td>C148</td>\n",
       "      <td>C</td>\n",
       "    </tr>\n",
       "    <tr>\n",
       "      <th>890</th>\n",
       "      <td>891</td>\n",
       "      <td>0</td>\n",
       "      <td>3</td>\n",
       "      <td>Dooley, Mr. Patrick</td>\n",
       "      <td>male</td>\n",
       "      <td>32.0</td>\n",
       "      <td>0</td>\n",
       "      <td>0</td>\n",
       "      <td>370376</td>\n",
       "      <td>7.7500</td>\n",
       "      <td>None</td>\n",
       "      <td>Q</td>\n",
       "    </tr>\n",
       "  </tbody>\n",
       "</table>\n",
       "<p>891 rows × 12 columns</p>\n",
       "</div>"
      ],
      "text/plain": [
       "     PassengerId  Survived  Pclass  \\\n",
       "0              1         0       3   \n",
       "1              2         1       1   \n",
       "2              3         1       3   \n",
       "3              4         1       1   \n",
       "4              5         0       3   \n",
       "..           ...       ...     ...   \n",
       "886          887         0       2   \n",
       "887          888         1       1   \n",
       "888          889         0       3   \n",
       "889          890         1       1   \n",
       "890          891         0       3   \n",
       "\n",
       "                                                  Name     Sex   Age  SibSp  \\\n",
       "0                              Braund, Mr. Owen Harris    male  22.0      1   \n",
       "1    Cumings, Mrs. John Bradley (Florence Briggs Th...  female  38.0      1   \n",
       "2                               Heikkinen, Miss. Laina  female  26.0      0   \n",
       "3         Futrelle, Mrs. Jacques Heath (Lily May Peel)  female  35.0      1   \n",
       "4                             Allen, Mr. William Henry    male  35.0      0   \n",
       "..                                                 ...     ...   ...    ...   \n",
       "886                              Montvila, Rev. Juozas    male  27.0      0   \n",
       "887                       Graham, Miss. Margaret Edith  female  19.0      0   \n",
       "888           Johnston, Miss. Catherine Helen \"Carrie\"  female   NaN      1   \n",
       "889                              Behr, Mr. Karl Howell    male  26.0      0   \n",
       "890                                Dooley, Mr. Patrick    male  32.0      0   \n",
       "\n",
       "     Parch            Ticket     Fare Cabin Embarked  \n",
       "0        0         A/5 21171   7.2500  None        S  \n",
       "1        0          PC 17599  71.2833   C85        C  \n",
       "2        0  STON/O2. 3101282   7.9250  None        S  \n",
       "3        0            113803  53.1000  C123        S  \n",
       "4        0            373450   8.0500  None        S  \n",
       "..     ...               ...      ...   ...      ...  \n",
       "886      0            211536  13.0000  None        S  \n",
       "887      0            112053  30.0000   B42        S  \n",
       "888      2        W./C. 6607  23.4500  None        S  \n",
       "889      0            111369  30.0000  C148        C  \n",
       "890      0            370376   7.7500  None        Q  \n",
       "\n",
       "[891 rows x 12 columns]"
      ]
     },
     "execution_count": 22,
     "metadata": {},
     "output_type": "execute_result"
    }
   ],
   "source": [
    "\n",
    "# Get the default datastore\n",
    "default_ds = ws.get_default_datastore()\n",
    "\n",
    "tab_data_set = Dataset.Tabular.from_delimited_files(path=(default_ds, 'titanic/train.csv'))\n",
    "df = tab_data_set.to_pandas_dataframe()\n",
    "\n",
    "df\n"
   ]
  },
  {
   "cell_type": "code",
   "execution_count": 25,
   "id": "11b28f35",
   "metadata": {},
   "outputs": [
    {
     "name": "stdout",
     "output_type": "stream",
     "text": [
      "1.34.0\n",
      "row count: 891 column count: 12\n"
     ]
    }
   ],
   "source": [
    "%%synapse\n",
    "\n",
    "import azureml.core\n",
    "from azureml.core import Dataset\n",
    "import os, shutil\n",
    "\n",
    "print(azureml.core.VERSION)\n",
    "\n",
    "from azureml.core import Workspace, Dataset\n",
    "ws = Workspace.get(name='mm-aml-dev', subscription_id='5da07161-3770-4a4b-aa43-418cbbb627cf', resource_group='mm-machine-learning-dev-rg')\n",
    "\n",
    "# Get the default datastore\n",
    "default_ds = ws.get_default_datastore()\n",
    "\n",
    "tab_data_set = Dataset.Tabular.from_delimited_files(path=(default_ds, 'titanic/train.csv'))\n",
    "df = tab_data_set.to_spark_dataframe()\n",
    "\n",
    "print('row count:', df.count(),'column count:', len(df.columns))\n"
   ]
  },
  {
   "cell_type": "code",
   "execution_count": 24,
   "id": "9c34415a",
   "metadata": {},
   "outputs": [
    {
     "name": "stdout",
     "output_type": "stream",
     "text": [
      "+----+-----+\n",
      "| Age|count|\n",
      "+----+-----+\n",
      "|null|   52|\n",
      "|  24|   15|\n",
      "|  27|   11|\n",
      "|  22|   11|\n",
      "|  35|   11|\n",
      "+----+-----+\n",
      "only showing top 5 rows\n"
     ]
    }
   ],
   "source": [
    "%%synapse\n",
    "\n",
    "#from pyspark.sql.functions import col, desc\n",
    "import pyspark.sql.functions as F\n",
    "from IPython.display import display\n",
    "\n",
    "df = spark.read.option(\"header\", \"true\").csv(\"wasbs://demo@dprepdata.blob.core.windows.net/Titanic.csv\")\n",
    "df.filter(F.col('Survived') == 1).groupBy('Age').count().orderBy(F.desc('count')).show(5)\n"
   ]
  },
  {
   "cell_type": "markdown",
   "id": "289153a0",
   "metadata": {},
   "source": [
    "# Challenge - Cleanse your data\n",
    "\n",
    "Determine which columns have NULL values and determine as a team what you would like to do with that data.  Save your resulting data to your teams' ADLS Gen2 Storage Location\n",
    "\n",
    "Helpful Articles for your team's discussion:\n",
    "[Towards Datascience](https://towardsdatascience.com/machine-learning-with-the-titanic-dataset-7f6909e58280)\n",
    "\n",
    "Potentially helpful article on [sparkbyexamples](https://sparkbyexamples.com/pyspark/pyspark-find-count-of-null-none-nan-values/#:~:text=In%20PySpark%20DataFrame%20you%20can%20calculate%20the%20count,all%20or%20multiple%20selected%20columns%20of%20PySpark%20DataFrame)\n",
    "\n"
   ]
  },
  {
   "cell_type": "code",
   "execution_count": 26,
   "id": "406e716b",
   "metadata": {},
   "outputs": [
    {
     "name": "stdout",
     "output_type": "stream",
     "text": [
      "row count: 891 column count: 12\n",
      "\n",
      "root\n",
      " |-- PassengerId: long (nullable = false)\n",
      " |-- Survived: long (nullable = false)\n",
      " |-- Pclass: long (nullable = false)\n",
      " |-- Name: string (nullable = false)\n",
      " |-- Sex: string (nullable = false)\n",
      " |-- Age: double (nullable = true)\n",
      " |-- SibSp: long (nullable = false)\n",
      " |-- Parch: long (nullable = false)\n",
      " |-- Ticket: string (nullable = false)\n",
      " |-- Fare: double (nullable = false)\n",
      " |-- Cabin: string (nullable = true)\n",
      " |-- Embarked: string (nullable = true)\n"
     ]
    }
   ],
   "source": [
    "%%synapse\n",
    "\n",
    "print('row count:', df.count(),'column count:', len(df.columns))\n",
    "print('')\n",
    "df.printSchema()"
   ]
  },
  {
   "cell_type": "code",
   "execution_count": 27,
   "id": "d2487d93",
   "metadata": {},
   "outputs": [
    {
     "name": "stdout",
     "output_type": "stream",
     "text": [
      "+-----------+--------+------+----+---+---+-----+-----+------+----+-----+--------+\n",
      "|PassengerId|Survived|Pclass|Name|Sex|Age|SibSp|Parch|Ticket|Fare|Cabin|Embarked|\n",
      "+-----------+--------+------+----+---+---+-----+-----+------+----+-----+--------+\n",
      "|          0|       0|     0|   0|  0|177|    0|    0|     0|   0|  687|       2|\n",
      "+-----------+--------+------+----+---+---+-----+-----+------+----+-----+--------+\n"
     ]
    }
   ],
   "source": [
    "%%synapse\n",
    "from pyspark.sql.functions import col,isnan, when, count\n",
    "df.select([count(when(isnan(c) | col(c).isNull(), c)).alias(c) for c in df.columns]\n",
    "   ).show()"
   ]
  },
  {
   "cell_type": "code",
   "execution_count": 31,
   "id": "f4b3b7c1",
   "metadata": {},
   "outputs": [
    {
     "name": "stdout",
     "output_type": "stream",
     "text": [
      "+-----------+--------+------+----+---+---+-----+-----+------+----+-----+--------+\n",
      "|PassengerId|Survived|Pclass|Name|Sex|Age|SibSp|Parch|Ticket|Fare|Cabin|Embarked|\n",
      "+-----------+--------+------+----+---+---+-----+-----+------+----+-----+--------+\n",
      "|          0|       0|     0|   0|  0|177|    0|    0|     0|   0|  687|       2|\n",
      "+-----------+--------+------+----+---+---+-----+-----+------+----+-----+--------+\n"
     ]
    }
   ],
   "source": [
    "%%synapse\n",
    "from pyspark.sql.functions import col,isnan,when,count\n",
    "df2 = df.select([count(when(col(c).contains('None') | \\\n",
    "                            col(c).contains('NULL') | \\\n",
    "                            (col(c) == '' ) | \\\n",
    "                            col(c).isNull() | \\\n",
    "                            isnan(c), c \n",
    "                           )).alias(c)\n",
    "                    for c in df.columns])\n",
    "df2.show()"
   ]
  },
  {
   "cell_type": "code",
   "execution_count": 32,
   "id": "19361800",
   "metadata": {},
   "outputs": [
    {
     "name": "stdout",
     "output_type": "stream",
     "text": [
      "PassengerId 446.0\n",
      "Survived 0.3838383838383838\n",
      "Pclass 2.308641975308642\n",
      "Name None\n",
      "Sex None\n",
      "Age 29.69911764705882\n",
      "SibSp 0.5230078563411896\n",
      "Parch 0.38159371492704824\n",
      "Ticket 260318.54916792738\n",
      "Fare 32.2042079685746\n",
      "Cabin None\n",
      "Embarked None\n",
      "+-----------+--------+------+----+---+---+-----+-----+------+----+-----+--------+\n",
      "|PassengerId|Survived|Pclass|Name|Sex|Age|SibSp|Parch|Ticket|Fare|Cabin|Embarked|\n",
      "+-----------+--------+------+----+---+---+-----+-----+------+----+-----+--------+\n",
      "|          0|       0|     0|   0|  0|  0|    0|    0|     0|   0|  687|       2|\n",
      "+-----------+--------+------+----+---+---+-----+-----+------+----+-----+--------+\n"
     ]
    }
   ],
   "source": [
    "%%synapse\n",
    "cols = df.columns\n",
    "for c in cols:\n",
    "    value = df.agg({c: 'avg'})\n",
    "    median = value.collect()[0][0]\n",
    "    print(c, median)\n",
    "    if median != None:\n",
    "        df = df.na.fill(value=median,subset=[c])\n",
    "\n",
    "\n",
    "df2 = df.select([count(when(col(c).contains('None') | \\\n",
    "                            col(c).contains('NULL') | \\\n",
    "                            (col(c) == '' ) | \\\n",
    "                            col(c).isNull() | \\\n",
    "                            isnan(c), c \n",
    "                           )).alias(c)\n",
    "                    for c in df.columns])\n",
    "df2.show()"
   ]
  },
  {
   "cell_type": "code",
   "execution_count": 33,
   "id": "243d52f5",
   "metadata": {},
   "outputs": [
    {
     "name": "stdout",
     "output_type": "stream",
     "text": [
      "+-----------+--------+------+----+---+---+-----+-----+------+----+-----+--------+\n",
      "|PassengerId|Survived|Pclass|Name|Sex|Age|SibSp|Parch|Ticket|Fare|Cabin|Embarked|\n",
      "+-----------+--------+------+----+---+---+-----+-----+------+----+-----+--------+\n",
      "|          0|       0|     0|   0|  0|  0|    0|    0|     0|   0|  687|       2|\n",
      "+-----------+--------+------+----+---+---+-----+-----+------+----+-----+--------+\n"
     ]
    }
   ],
   "source": [
    "%%synapse\n",
    "from pyspark.sql.functions import col,isnan,when,count\n",
    "df2 = df.select([count(when(col(c).contains('None') | \\\n",
    "                            col(c).contains('NULL') | \\\n",
    "                            (col(c) == '' ) | \\\n",
    "                            col(c).isNull() | \\\n",
    "                            isnan(c), c \n",
    "                           )).alias(c)\n",
    "                    for c in df.columns])\n",
    "df2.show()"
   ]
  },
  {
   "cell_type": "code",
   "execution_count": 34,
   "id": "f3f4596a",
   "metadata": {},
   "outputs": [
    {
     "name": "stdout",
     "output_type": "stream",
     "text": [
      "[None, 'C85', 'C123', 'E46', 'G6', 'C103', 'D56', 'A6', 'C23 C25 C27', 'B78', 'D33', 'B30', 'C52', 'B28', 'C83', 'F33', 'F G73', 'E31', 'A5', 'D10 D12', 'D26', 'C110', 'B58 B60', 'E101', 'F E69', 'D47', 'B86', 'F2', 'C2', 'E33', 'B19', 'A7', 'C49', 'F4', 'A32', 'B4', 'B80', 'A31', 'D36', 'D15', 'C93', 'C78', 'D35', 'C87', 'B77', 'E67', 'B94', 'C125', 'C99', 'C118', 'D7', 'A19', 'B49', 'D', 'C22 C26', 'C106', 'C65', 'E36', 'C54', 'B57 B59 B63 B66', 'C7', 'E34', 'C32', 'B18', 'C124', 'C91', 'E40', 'T', 'C128', 'D37', 'B35', 'E50', 'C82', 'B96 B98', 'E10', 'E44', 'A34', 'C104', 'C111', 'C92', 'E38', 'D21', 'E12', 'E63', 'A14', 'B37', 'C30', 'D20', 'B79', 'E25', 'D46', 'B73', 'C95', 'B38', 'B39', 'B22', 'C86', 'C70', 'A16', 'C101', 'C68', 'A10', 'E68', 'B41', 'A20', 'D19', 'D50', 'D9', 'A23', 'B50', 'A26', 'D48', 'E58', 'C126', 'B71', 'B51 B53 B55', 'D49', 'B5', 'B20', 'F G63', 'C62 C64', 'E24', 'C90', 'C45', 'E8', 'B101', 'D45', 'C46', 'D30', 'E121', 'D11', 'E77', 'F38', 'B3', 'D6', 'B82 B84', 'D17', 'A36', 'B102', 'B69', 'E49', 'C47', 'D28', 'E17', 'A24', 'C50', 'B42', 'C148']\n"
     ]
    }
   ],
   "source": [
    "%%synapse\n",
    "cabins = df.select('Cabin').rdd.flatMap(lambda x: x).distinct().collect()\n",
    "cabins"
   ]
  },
  {
   "cell_type": "markdown",
   "id": "ca3b554a",
   "metadata": {},
   "source": [
    "# Leverage a UDF in your Spark code"
   ]
  },
  {
   "cell_type": "code",
   "execution_count": 35,
   "id": "e3c7b5cf",
   "metadata": {},
   "outputs": [
    {
     "name": "stdout",
     "output_type": "stream",
     "text": [
      "+-----------+--------+------+--------------------+------+----+-----+-----+----------------+-------+-----+--------+\n",
      "|PassengerId|Survived|Pclass|                Name|   Sex| Age|SibSp|Parch|          Ticket|   Fare|Cabin|Embarked|\n",
      "+-----------+--------+------+--------------------+------+----+-----+-----+----------------+-------+-----+--------+\n",
      "|          1|       0|     3|Braund, Mr. Owen ...|  male|22.0|    1|    0|       A/5 21171|   7.25|    M|       S|\n",
      "|          2|       1|     1|Cumings, Mrs. Joh...|female|38.0|    1|    0|        PC 17599|71.2833|    C|       C|\n",
      "|          3|       1|     3|Heikkinen, Miss. ...|female|26.0|    0|    0|STON/O2. 3101282|  7.925|    M|       S|\n",
      "|          4|       1|     1|Futrelle, Mrs. Ja...|female|35.0|    1|    0|          113803|   53.1|    C|       S|\n",
      "|          5|       0|     3|Allen, Mr. Willia...|  male|35.0|    0|    0|          373450|   8.05|    M|       S|\n",
      "+-----------+--------+------+--------------------+------+----+-----+-----+----------------+-------+-----+--------+\n",
      "only showing top 5 rows\n"
     ]
    }
   ],
   "source": [
    "%%synapse\n",
    "\n",
    "from pyspark.sql.functions import udf\n",
    "from pyspark.sql.types import StringType\n",
    "\n",
    "@udf(returnType=StringType())\n",
    "def get_deck(s):\n",
    "     return 'M' if s == None else s[0]\n",
    "    \n",
    "df = df.withColumn(\"Cabin\", get_deck(\"Cabin\"))\n",
    "\n",
    "df.show(5)"
   ]
  },
  {
   "cell_type": "code",
   "execution_count": 36,
   "id": "ef670fa5",
   "metadata": {},
   "outputs": [
    {
     "name": "stdout",
     "output_type": "stream",
     "text": [
      "+-----------+--------+------+----+---+---+-----+-----+------+----+-----+--------+\n",
      "|PassengerId|Survived|Pclass|Name|Sex|Age|SibSp|Parch|Ticket|Fare|Cabin|Embarked|\n",
      "+-----------+--------+------+----+---+---+-----+-----+------+----+-----+--------+\n",
      "|          0|       0|     0|   0|  0|  0|    0|    0|     0|   0|    0|       2|\n",
      "+-----------+--------+------+----+---+---+-----+-----+------+----+-----+--------+\n"
     ]
    }
   ],
   "source": [
    "%%synapse\n",
    "from pyspark.sql.functions import col,isnan,when,count\n",
    "df2 = df.select([count(when(col(c).contains('None') | \\\n",
    "                            col(c).contains('NULL') | \\\n",
    "                            (col(c) == '' ) | \\\n",
    "                            col(c).isNull() | \\\n",
    "                            isnan(c), c \n",
    "                           )).alias(c)\n",
    "                    for c in df.columns])\n",
    "df2.show()"
   ]
  },
  {
   "cell_type": "code",
   "execution_count": 37,
   "id": "bd23df37",
   "metadata": {},
   "outputs": [
    {
     "name": "stdout",
     "output_type": "stream",
     "text": [
      "+-----------+--------+------+--------------------+------+----+-----+-----+------+----+-----+--------+\n",
      "|PassengerId|Survived|Pclass|                Name|   Sex| Age|SibSp|Parch|Ticket|Fare|Cabin|Embarked|\n",
      "+-----------+--------+------+--------------------+------+----+-----+-----+------+----+-----+--------+\n",
      "|         62|       1|     1| Icard, Miss. Amelie|female|38.0|    0|    0|113572|80.0|    B|    null|\n",
      "|        830|       1|     1|Stone, Mrs. Georg...|female|62.0|    0|    0|113572|80.0|    B|    null|\n",
      "+-----------+--------+------+--------------------+------+----+-----+-----+------+----+-----+--------+\n"
     ]
    }
   ],
   "source": [
    "%%synapse\n",
    "df.filter(df.Embarked.isNull()).show()"
   ]
  },
  {
   "cell_type": "code",
   "execution_count": 38,
   "id": "9e4cf514",
   "metadata": {},
   "outputs": [
    {
     "name": "stdout",
     "output_type": "stream",
     "text": [
      "+-----------+--------+------+----+---+---+-----+-----+------+----+-----+--------+\n",
      "|PassengerId|Survived|Pclass|Name|Sex|Age|SibSp|Parch|Ticket|Fare|Cabin|Embarked|\n",
      "+-----------+--------+------+----+---+---+-----+-----+------+----+-----+--------+\n",
      "|          0|       0|     0|   0|  0|  0|    0|    0|     0|   0|    0|       0|\n",
      "+-----------+--------+------+----+---+---+-----+-----+------+----+-----+--------+\n"
     ]
    }
   ],
   "source": [
    "%%synapse\n",
    "df = df.dropna(subset=[\"Embarked\"])\n",
    "\n",
    "df2 = df.select([count(when(col(c).contains('None') | \\\n",
    "                            col(c).contains('NULL') | \\\n",
    "                            (col(c) == '' ) | \\\n",
    "                            col(c).isNull() | \\\n",
    "                            isnan(c), c \n",
    "                           )).alias(c)\n",
    "                    for c in df.columns])\n",
    "df2.show()"
   ]
  },
  {
   "cell_type": "code",
   "execution_count": 39,
   "id": "8b5f65a5",
   "metadata": {},
   "outputs": [
    {
     "name": "stdout",
     "output_type": "stream",
     "text": [
      "row count: 889 column count: 12\n"
     ]
    }
   ],
   "source": [
    "%%synapse\n",
    "\n",
    "print('row count:', df.count(),'column count:', len(df.columns))"
   ]
  },
  {
   "cell_type": "markdown",
   "id": "cee17e32",
   "metadata": {},
   "source": [
    "# Not ready for prime time \n",
    "\n"
   ]
  },
  {
   "cell_type": "code",
   "execution_count": 94,
   "id": "b069aeee",
   "metadata": {},
   "outputs": [
    {
     "name": "stdout",
     "output_type": "stream",
     "text": [
      "\n"
     ]
    }
   ],
   "source": [
    "%%synapse\n",
    "\n",
    "import matplotlib\n",
    "import numpy as np\n",
    "from matplotlib import pyplot as plt\n",
    "\n",
    "x = np.random.rand(20)\n",
    "plt.plot(x, '*-', color='red', markersize=10)\n",
    "\n",
    "plt.show()"
   ]
  },
  {
   "cell_type": "code",
   "execution_count": 95,
   "id": "a816c7cf",
   "metadata": {},
   "outputs": [
    {
     "data": {
      "image/png": "[encoded data removed]",
      "text/plain": [
       "<Figure size 540x252 with 1 Axes>"
      ]
     },
     "metadata": {
      "needs_background": "light"
     },
     "output_type": "display_data"
    }
   ],
   "source": [
    "import matplotlib\n",
    "import numpy as np\n",
    "from matplotlib import pyplot as plt\n",
    "\n",
    "x = np.random.rand(20)\n",
    "plt.plot(x, '*-', color='red', markersize=10)\n",
    "\n",
    "plt.show()"
   ]
  },
  {
   "cell_type": "code",
   "execution_count": 53,
   "id": "8f03e58a",
   "metadata": {},
   "outputs": [
    {
     "name": "stdout",
     "output_type": "stream",
     "text": [
      "Session stopped.\n"
     ]
    }
   ],
   "source": [
    "%synapse stop"
   ]
  },
  {
   "cell_type": "code",
   "execution_count": null,
   "id": "6c2355be",
   "metadata": {},
   "outputs": [],
   "source": []
  }
 ],
 "metadata": {
  "kernelspec": {
   "display_name": "Python 3.6 - AzureML",
   "language": "python",
   "name": "python3-azureml"
  },
  "language_info": {
   "codemirror_mode": {
    "name": "ipython",
    "version": 3
   },
   "file_extension": ".py",
   "mimetype": "text/x-python",
   "name": "python",
   "nbconvert_exporter": "python",
   "pygments_lexer": "ipython3",
   "version": "3.6.9"
  }
 },
 "nbformat": 4,
 "nbformat_minor": 5
}
